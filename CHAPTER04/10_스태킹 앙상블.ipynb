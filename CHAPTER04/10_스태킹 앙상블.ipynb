{
 "cells": [
  {
   "cell_type": "code",
   "execution_count": 1,
   "metadata": {},
   "outputs": [],
   "source": [
    "import numpy as np\n",
    "\n",
    "from sklearn.neighbors import KNeighborsClassifier\n",
    "from sklearn.ensemble import RandomForestClassifier\n",
    "from sklearn.ensemble import AdaBoostClassifier\n",
    "from sklearn.tree import DecisionTreeClassifier\n",
    "from sklearn.linear_model import LogisticRegression\n",
    "\n",
    "from sklearn.datasets import load_breast_cancer\n",
    "from sklearn.model_selection import train_test_split\n",
    "from sklearn.metrics import accuracy_score\n",
    "\n",
    "data = load_breast_cancer()\n",
    "\n",
    "x_data = data.data\n",
    "y_label = data.target\n",
    "\n",
    "x_train, x_test, y_train, y_test = train_test_split(x_data, y_label, test_size=0.2, random_state=0)"
   ]
  },
  {
   "cell_type": "code",
   "execution_count": 2,
   "metadata": {},
   "outputs": [
    {
     "data": {
      "text/plain": [
       "AdaBoostClassifier(n_estimators=100)"
      ]
     },
     "execution_count": 2,
     "metadata": {},
     "output_type": "execute_result"
    }
   ],
   "source": [
    "knn = KNeighborsClassifier(n_neighbors=4)\n",
    "rf = RandomForestClassifier(n_estimators=100, random_state=0)\n",
    "dt = DecisionTreeClassifier()\n",
    "ada = AdaBoostClassifier(n_estimators=100)\n",
    "lr = LogisticRegression(C=10)\n",
    "\n",
    "knn.fit(x_train, y_train)\n",
    "rf.fit(x_train, y_train)\n",
    "dt.fit(x_train, y_train)\n",
    "ada.fit(x_train, y_train)"
   ]
  },
  {
   "cell_type": "code",
   "execution_count": 3,
   "metadata": {},
   "outputs": [],
   "source": [
    "from sklearn.metrics import confusion_matrix, accuracy_score, precision_score, recall_score, f1_score\n",
    "from sklearn.metrics import roc_auc_score\n",
    "\n",
    "def get_clf_eval(y_test, pred=None, pred_proba=None):\n",
    "    confusion = confusion_matrix( y_test, pred)\n",
    "    accuracy = accuracy_score(y_test , pred)\n",
    "    precision = precision_score(y_test , pred)\n",
    "    recall = recall_score(y_test , pred)\n",
    "    f1 = f1_score(y_test,pred)\n",
    "    # ROC-AUC 추가 \n",
    "    roc_auc = roc_auc_score(y_test, pred_proba)\n",
    "    print('오차 행렬')\n",
    "    print(confusion)\n",
    "    # ROC-AUC print 추가\n",
    "    print('정확도: {0:.4f}, 정밀도: {1:.4f}, 재현율: {2:.4f} F1: {3:.4f}, AUC:{4:.4f}'\n",
    "          .format(accuracy, precision, recall, f1, roc_auc))"
   ]
  },
  {
   "cell_type": "code",
   "execution_count": 4,
   "metadata": {},
   "outputs": [
    {
     "name": "stdout",
     "output_type": "stream",
     "text": [
      "오차 행렬\n",
      "[[44  3]\n",
      " [ 6 61]]\n",
      "정확도: 0.9211, 정밀도: 0.9531, 재현율: 0.9104 F1: 0.9313, AUC:0.9568\n"
     ]
    }
   ],
   "source": [
    "knn_pred = knn.predict(x_test)\n",
    "rf_pred = rf.predict(x_test)\n",
    "dt_pred = dt.predict(x_test)\n",
    "ada_pred = ada.predict(x_test)\n",
    "\n",
    "knn_proba = knn.predict_proba(x_test)[:, 1]\n",
    "rf_proba = rf.predict_proba(x_test)[:, 1]\n",
    "dt_proba = dt.predict_proba(x_test)[:, 1]\n",
    "ada_proba = ada.predict_proba(x_test)[:, 1]\n",
    "\n",
    "get_clf_eval(y_test, knn_pred, knn_proba)"
   ]
  },
  {
   "cell_type": "code",
   "execution_count": 5,
   "metadata": {},
   "outputs": [
    {
     "name": "stdout",
     "output_type": "stream",
     "text": [
      "오차 행렬\n",
      "[[46  1]\n",
      " [ 3 64]]\n",
      "정확도: 0.9649, 정밀도: 0.9846, 재현율: 0.9552 F1: 0.9697, AUC:0.9965\n"
     ]
    }
   ],
   "source": [
    "get_clf_eval(y_test, rf_pred, rf_proba)"
   ]
  },
  {
   "cell_type": "code",
   "execution_count": 6,
   "metadata": {},
   "outputs": [
    {
     "name": "stdout",
     "output_type": "stream",
     "text": [
      "오차 행렬\n",
      "[[43  4]\n",
      " [ 8 59]]\n",
      "정확도: 0.8947, 정밀도: 0.9365, 재현율: 0.8806 F1: 0.9077, AUC:0.8977\n"
     ]
    }
   ],
   "source": [
    "get_clf_eval(y_test, dt_pred, dt_proba)"
   ]
  },
  {
   "cell_type": "code",
   "execution_count": 7,
   "metadata": {},
   "outputs": [
    {
     "name": "stdout",
     "output_type": "stream",
     "text": [
      "오차 행렬\n",
      "[[44  3]\n",
      " [ 2 65]]\n",
      "정확도: 0.9561, 정밀도: 0.9559, 재현율: 0.9701 F1: 0.9630, AUC:0.9968\n"
     ]
    }
   ],
   "source": [
    "get_clf_eval(y_test, ada_pred, ada_proba)"
   ]
  },
  {
   "cell_type": "code",
   "execution_count": 8,
   "metadata": {},
   "outputs": [
    {
     "data": {
      "text/plain": [
       "array([[0, 0, 0, 0],\n",
       "       [1, 1, 1, 1],\n",
       "       [1, 1, 1, 1],\n",
       "       [0, 1, 0, 1],\n",
       "       [1, 1, 1, 1],\n",
       "       [1, 1, 1, 1],\n",
       "       [1, 1, 1, 1],\n",
       "       [1, 1, 1, 1],\n",
       "       [1, 1, 1, 1],\n",
       "       [1, 1, 1, 1],\n",
       "       [0, 0, 0, 1],\n",
       "       [1, 1, 1, 1],\n",
       "       [1, 1, 1, 1],\n",
       "       [0, 0, 0, 0],\n",
       "       [0, 0, 1, 1],\n",
       "       [0, 0, 1, 0],\n",
       "       [1, 1, 1, 1],\n",
       "       [0, 0, 0, 0],\n",
       "       [0, 0, 0, 0],\n",
       "       [0, 0, 0, 0],\n",
       "       [0, 0, 0, 0],\n",
       "       [0, 0, 0, 0],\n",
       "       [1, 1, 1, 1],\n",
       "       [1, 1, 1, 1],\n",
       "       [0, 0, 0, 0],\n",
       "       [1, 1, 1, 1],\n",
       "       [1, 1, 1, 1],\n",
       "       [1, 0, 0, 0],\n",
       "       [1, 1, 1, 1],\n",
       "       [0, 0, 0, 0],\n",
       "       [1, 1, 1, 1],\n",
       "       [0, 0, 0, 0],\n",
       "       [1, 1, 1, 1],\n",
       "       [0, 0, 0, 0],\n",
       "       [1, 1, 1, 1],\n",
       "       [0, 0, 0, 0],\n",
       "       [1, 1, 1, 1],\n",
       "       [0, 0, 0, 0],\n",
       "       [1, 1, 1, 1],\n",
       "       [0, 0, 0, 0],\n",
       "       [0, 0, 1, 0],\n",
       "       [1, 1, 1, 1],\n",
       "       [0, 0, 0, 0],\n",
       "       [1, 1, 1, 1],\n",
       "       [0, 1, 0, 1],\n",
       "       [0, 0, 0, 0],\n",
       "       [1, 1, 1, 1],\n",
       "       [1, 1, 1, 1],\n",
       "       [1, 1, 1, 1],\n",
       "       [0, 0, 0, 0],\n",
       "       [0, 0, 0, 0],\n",
       "       [1, 0, 0, 0],\n",
       "       [0, 0, 0, 0],\n",
       "       [1, 1, 1, 1],\n",
       "       [1, 1, 1, 1],\n",
       "       [1, 1, 1, 1],\n",
       "       [1, 1, 0, 1],\n",
       "       [1, 1, 1, 1],\n",
       "       [1, 1, 0, 1],\n",
       "       [0, 0, 0, 0],\n",
       "       [0, 0, 0, 0],\n",
       "       [0, 0, 0, 0],\n",
       "       [1, 1, 1, 1],\n",
       "       [1, 1, 1, 1],\n",
       "       [0, 0, 0, 0],\n",
       "       [1, 1, 0, 0],\n",
       "       [0, 0, 0, 0],\n",
       "       [0, 0, 0, 0],\n",
       "       [0, 0, 0, 0],\n",
       "       [1, 1, 1, 1],\n",
       "       [1, 1, 1, 1],\n",
       "       [0, 0, 0, 0],\n",
       "       [1, 1, 1, 1],\n",
       "       [1, 1, 1, 1],\n",
       "       [0, 0, 0, 0],\n",
       "       [1, 1, 1, 1],\n",
       "       [1, 1, 1, 1],\n",
       "       [1, 1, 1, 1],\n",
       "       [1, 1, 1, 1],\n",
       "       [1, 1, 1, 1],\n",
       "       [0, 0, 0, 0],\n",
       "       [0, 0, 0, 0],\n",
       "       [0, 0, 0, 0],\n",
       "       [1, 1, 1, 1],\n",
       "       [0, 0, 0, 0],\n",
       "       [1, 1, 1, 1],\n",
       "       [1, 1, 1, 1],\n",
       "       [1, 1, 1, 1],\n",
       "       [0, 0, 0, 0],\n",
       "       [0, 0, 0, 0],\n",
       "       [1, 1, 1, 1],\n",
       "       [0, 0, 0, 1],\n",
       "       [1, 1, 1, 1],\n",
       "       [0, 0, 0, 0],\n",
       "       [1, 1, 1, 1],\n",
       "       [1, 1, 1, 1],\n",
       "       [0, 0, 0, 0],\n",
       "       [1, 1, 1, 1],\n",
       "       [1, 1, 1, 1],\n",
       "       [1, 1, 1, 1],\n",
       "       [1, 1, 1, 1],\n",
       "       [1, 1, 1, 1],\n",
       "       [1, 1, 1, 1],\n",
       "       [1, 1, 0, 1],\n",
       "       [0, 0, 0, 0],\n",
       "       [1, 1, 1, 1],\n",
       "       [0, 0, 0, 0],\n",
       "       [0, 1, 1, 1],\n",
       "       [0, 0, 0, 1],\n",
       "       [0, 0, 1, 0],\n",
       "       [1, 1, 1, 1],\n",
       "       [0, 0, 0, 0],\n",
       "       [0, 0, 0, 0],\n",
       "       [1, 1, 1, 1]])"
      ]
     },
     "execution_count": 8,
     "metadata": {},
     "output_type": "execute_result"
    }
   ],
   "source": [
    "preds = np.array([knn_pred, rf_pred, dt_pred, ada_pred])\n",
    "preds = np.transpose(preds)\n",
    "preds"
   ]
  },
  {
   "cell_type": "code",
   "execution_count": 9,
   "metadata": {},
   "outputs": [
    {
     "data": {
      "text/plain": [
       "(114, 4)"
      ]
     },
     "execution_count": 9,
     "metadata": {},
     "output_type": "execute_result"
    }
   ],
   "source": [
    "preds.shape"
   ]
  },
  {
   "cell_type": "code",
   "execution_count": 11,
   "metadata": {},
   "outputs": [
    {
     "name": "stdout",
     "output_type": "stream",
     "text": [
      "오차 행렬\n",
      "[[46  1]\n",
      " [ 2 65]]\n",
      "정확도: 0.9737, 정밀도: 0.9848, 재현율: 0.9701 F1: 0.9774, AUC:0.9790\n"
     ]
    }
   ],
   "source": [
    "lr.fit(preds, y_test)\n",
    "lr_pred = lr.predict(preds)\n",
    "lr_prob = lr.predict_proba(preds)[:, 1]\n",
    "get_clf_eval(y_test, lr_pred, lr_prob)"
   ]
  },
  {
   "cell_type": "code",
   "execution_count": 12,
   "metadata": {},
   "outputs": [],
   "source": [
    "from sklearn.model_selection import KFold\n",
    "from sklearn.metrics import mean_absolute_error\n",
    "\n",
    "def get_stacking_base_datasets(model, x_train_n, y_train_n, x_test_n, n_folds):\n",
    "    kf = KFold(n_splits=n_folds, shuffle=False, random_state=0)\n",
    "    train_pred = np.zeros((x_train_n.shape[0],1))\n",
    "    test_pred = np.zeros((x_test_n.shape[0], n_folds))\n",
    "    print(model.__class__.__name__, ' 시작')\n",
    "    \n",
    "    for folder_counter, (train_index, valid_index) in enumerate(kf.split(x_train_n)):\n",
    "        print('\\t 폴드 세트: ', folder_counter, ' 시작')\n",
    "        x_tr = x_train_n[train_index]\n",
    "        y_tr = y_train_n[train_index]\n",
    "        x_te = x_train_n[valid_index]\n",
    "        \n",
    "        model.fit(x_tr, y_tr)\n",
    "        train_pred[valid_index, :] = model.predict(x_te).reshape(-1, 1)\n",
    "        test_pred[:, folder_counter] = model.predict(x_test_n)\n",
    "        \n",
    "    test_pred_mean = np.mean(test_pred, axis=1).reshape(-1, 1)\n",
    "    return train_pred, test_pred_mean"
   ]
  },
  {
   "cell_type": "code",
   "execution_count": 13,
   "metadata": {},
   "outputs": [
    {
     "name": "stderr",
     "output_type": "stream",
     "text": [
      "/home/arti/anaconda3/lib/python3.7/site-packages/sklearn/model_selection/_split.py:297: FutureWarning: Setting a random_state has no effect since shuffle is False. This will raise an error in 0.24. You should leave random_state to its default (None), or set shuffle=True.\n",
      "  FutureWarning\n",
      "/home/arti/anaconda3/lib/python3.7/site-packages/sklearn/model_selection/_split.py:297: FutureWarning: Setting a random_state has no effect since shuffle is False. This will raise an error in 0.24. You should leave random_state to its default (None), or set shuffle=True.\n",
      "  FutureWarning\n"
     ]
    },
    {
     "name": "stdout",
     "output_type": "stream",
     "text": [
      "KNeighborsClassifier  시작\n",
      "\t 폴드 세트:  0  시작\n",
      "\t 폴드 세트:  1  시작\n",
      "\t 폴드 세트:  2  시작\n",
      "\t 폴드 세트:  3  시작\n",
      "\t 폴드 세트:  4  시작\n",
      "\t 폴드 세트:  5  시작\n",
      "\t 폴드 세트:  6  시작\n",
      "RandomForestClassifier  시작\n",
      "\t 폴드 세트:  0  시작\n",
      "\t 폴드 세트:  1  시작\n",
      "\t 폴드 세트:  2  시작\n",
      "\t 폴드 세트:  3  시작\n",
      "\t 폴드 세트:  4  시작\n",
      "\t 폴드 세트:  5  시작\n",
      "\t 폴드 세트:  6  시작\n"
     ]
    },
    {
     "name": "stderr",
     "output_type": "stream",
     "text": [
      "/home/arti/anaconda3/lib/python3.7/site-packages/sklearn/model_selection/_split.py:297: FutureWarning: Setting a random_state has no effect since shuffle is False. This will raise an error in 0.24. You should leave random_state to its default (None), or set shuffle=True.\n",
      "  FutureWarning\n",
      "/home/arti/anaconda3/lib/python3.7/site-packages/sklearn/model_selection/_split.py:297: FutureWarning: Setting a random_state has no effect since shuffle is False. This will raise an error in 0.24. You should leave random_state to its default (None), or set shuffle=True.\n",
      "  FutureWarning\n"
     ]
    },
    {
     "name": "stdout",
     "output_type": "stream",
     "text": [
      "DecisionTreeClassifier  시작\n",
      "\t 폴드 세트:  0  시작\n",
      "\t 폴드 세트:  1  시작\n",
      "\t 폴드 세트:  2  시작\n",
      "\t 폴드 세트:  3  시작\n",
      "\t 폴드 세트:  4  시작\n",
      "\t 폴드 세트:  5  시작\n",
      "\t 폴드 세트:  6  시작\n",
      "AdaBoostClassifier  시작\n",
      "\t 폴드 세트:  0  시작\n",
      "\t 폴드 세트:  1  시작\n",
      "\t 폴드 세트:  2  시작\n",
      "\t 폴드 세트:  3  시작\n",
      "\t 폴드 세트:  4  시작\n",
      "\t 폴드 세트:  5  시작\n",
      "\t 폴드 세트:  6  시작\n"
     ]
    }
   ],
   "source": [
    "knn_train, knn_test = get_stacking_base_datasets(knn, x_train, y_train, x_test, 7)\n",
    "rf_train, rf_test = get_stacking_base_datasets(rf, x_train, y_train, x_test, 7)\n",
    "dt_train, dt_test = get_stacking_base_datasets(dt, x_train, y_train, x_test, 7)\n",
    "ada_train, ada_test = get_stacking_base_datasets(ada, x_train, y_train, x_test, 7)"
   ]
  },
  {
   "cell_type": "code",
   "execution_count": 14,
   "metadata": {},
   "outputs": [],
   "source": [
    "stack_train = np.concatenate((knn_train, rf_train, dt_train, ada_train), axis=1)\n",
    "stack_test = np.concatenate((knn_test, rf_test, dt_test, ada_test), axis=1)"
   ]
  },
  {
   "cell_type": "code",
   "execution_count": 15,
   "metadata": {},
   "outputs": [
    {
     "name": "stdout",
     "output_type": "stream",
     "text": [
      "(455, 30) (114, 30)\n",
      "(455, 4) (114, 4)\n"
     ]
    }
   ],
   "source": [
    "print(x_train.shape, x_test.shape)\n",
    "print(stack_train.shape, stack_test.shape)"
   ]
  },
  {
   "cell_type": "code",
   "execution_count": 17,
   "metadata": {},
   "outputs": [
    {
     "name": "stdout",
     "output_type": "stream",
     "text": [
      "오차 행렬\n",
      "[[46  1]\n",
      " [ 1 66]]\n",
      "정확도: 0.9825, 정밀도: 0.9851, 재현율: 0.9851 F1: 0.9851, AUC:0.9975\n"
     ]
    }
   ],
   "source": [
    "lr.fit(stack_train, y_train)\n",
    "final_pred = lr.predict(stack_test)\n",
    "final_prob = lr.predict_proba(stack_test)[:, 1]\n",
    "get_clf_eval(y_test, final_pred, final_prob)"
   ]
  },
  {
   "cell_type": "code",
   "execution_count": 18,
   "metadata": {},
   "outputs": [
    {
     "data": {
      "text/plain": [
       "0.9824561403508771"
      ]
     },
     "execution_count": 18,
     "metadata": {},
     "output_type": "execute_result"
    }
   ],
   "source": [
    "accuracy_score(y_test, final_pred)"
   ]
  },
  {
   "cell_type": "code",
   "execution_count": null,
   "metadata": {},
   "outputs": [],
   "source": []
  }
 ],
 "metadata": {
  "kernelspec": {
   "display_name": "Python 3",
   "language": "python",
   "name": "python3"
  },
  "language_info": {
   "codemirror_mode": {
    "name": "ipython",
    "version": 3
   },
   "file_extension": ".py",
   "mimetype": "text/x-python",
   "name": "python",
   "nbconvert_exporter": "python",
   "pygments_lexer": "ipython3",
   "version": "3.7.6"
  }
 },
 "nbformat": 4,
 "nbformat_minor": 4
}
