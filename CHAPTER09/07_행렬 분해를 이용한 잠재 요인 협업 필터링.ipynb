{
 "cells": [
  {
   "cell_type": "code",
   "execution_count": null,
   "metadata": {},
   "outputs": [],
   "source": [
    "from sklearn.metrics import mean_squared_error\n",
    "import numpy as np\n",
    "\n",
    "\n",
    "def get_rmse(R, P, Q, non_zeros):\n",
    "    error = 0\n",
    "    \n",
    "    full_pred_matrix = np.dot(P, Q.T)\n",
    "    \n",
    "    x_non_zero_ind = [non_zero[0] for non_zero in non_zeros]\n",
    "    y_non_zero_ind = [non_zero[1] for non_zero in non_zeros]\n",
    "    \n",
    "    R_non_zeros = R[x_non_zero_ind, y_non_zero_ind]\n",
    "    full_pred_matrix_non_zeros = full_pred_matrix[x_non_zero_ind, y_non_zero_ind]\n",
    "    \n",
    "    mse = mean_squared_error(R_non_zeros, full_pred_matrix_non_zeros)\n",
    "    \n",
    "    return np.sqrt(mse)"
   ]
  },
  {
   "cell_type": "code",
   "execution_count": null,
   "metadata": {},
   "outputs": [],
   "source": [
    "def matrix_factorization(R, K, steps=200, learning_rate=0.01, r_lambda=0.01):\n",
    "    num_users, num_items = R.shape\n",
    "    np.random.seed(1)\n",
    "    \n",
    "    P = np.random.normal(scale=1./K, size=(num_users, K))\n",
    "    Q = np.random.normal(scale=1./K, size=(num_items, K))\n",
    "    \n",
    "    prev_rmse = 10000\n",
    "    break_count = 0\n",
    "    \n",
    "    non_zeros = [(i, j , R[i, j]) for i in range(num_users) for j in range(num_items) if R[i, j] > 0]\n",
    "    \n",
    "    for step in range(steps):\n",
    "        for i, j, r in non_zeros:\n",
    "            eij = r - np.dot(P[i, :], Q[j, :].T)\n",
    "            \n",
    "            P[i,:] = P[i,:] + learning_rate*(eij * Q[j,:] - r_lambda*P[i, :])\n",
    "            Q[j,:] = Q[j,:] + learning_rate*(eij * P[i,:] - r_lambda*Q[j, :])\n",
    "            \n",
    "        if (step%10) == 0:\n",
    "            print('### iteration step: ', step, ' rmse: ', rmse)\n",
    "            \n",
    "    return P, Q"
   ]
  },
  {
   "cell_type": "code",
   "execution_count": null,
   "metadata": {},
   "outputs": [],
   "source": [
    "import pandas as pd\n",
    "import os\n",
    "\n",
    "HOME = os.path.expanduser('~')\n",
    "\n",
    "\n",
    "movies = pd.read_csv(HOME + '/Downloads/movies.csv')\n",
    "ratings = pd.read_csv(HOME + '/Downloads/ratings.csv')\n",
    "ratings = ratings[['userId', 'movieId', 'rating']]\n",
    "\n",
    "ratings_matrix = ratings.pivot_table('rating', index='userId', columns='movieId')\n",
    "\n",
    "rating_movies = pd.merge(ratings, movies, on='movieId')\n",
    "ratings_matrix = rating_movies.pivot_table('rating', index='userId', columns='title')"
   ]
  },
  {
   "cell_type": "code",
   "execution_count": null,
   "metadata": {},
   "outputs": [],
   "source": [
    "P, Q = matrix_factorization(ratings_matrix.values, K=50, steps=200, learning_rate=0.01, r_lambda=0.01)\n",
    "pred_matrix = np.dot(P, Q.T)"
   ]
  },
  {
   "cell_type": "code",
   "execution_count": null,
   "metadata": {},
   "outputs": [],
   "source": [
    "ratings_pred_matrix = pd.DataFrame(data=pred_matrix, index=ratings_matrix.index,\n",
    "                                  columns=ratings_matrix.columns)\n",
    "\n",
    "ratings_pred_matrix"
   ]
  },
  {
   "cell_type": "code",
   "execution_count": null,
   "metadata": {},
   "outputs": [],
   "source": [
    "def get_unseen_movies(ratings_matrix, userId):\n",
    "    user_rating = ratings_matrix.loc[userId, :]\n",
    "    already_seen = user_rating[user_rating>0].index.tolist()\n",
    "    movies_list = ratings_matrix.columns.tolist()\n",
    "    \n",
    "    return [movie for movie in movies_list if movie not in already_seen]"
   ]
  },
  {
   "cell_type": "code",
   "execution_count": null,
   "metadata": {},
   "outputs": [],
   "source": [
    "def recomm_movie_by_userid(pred_df, userId, unseen_list, top_n=10):\n",
    "    return pred_df.loc[userId, unseen_list].sort_values(ascending=False)[:top_n]"
   ]
  },
  {
   "cell_type": "code",
   "execution_count": null,
   "metadata": {},
   "outputs": [],
   "source": [
    "unseen_list = get_unseen_movies(ratings_matrix, 9)\n",
    "recomm_movies = recomm_movie_by_userid(ratings_pred_matrix, 9, unseen_list, top_n=10)\n",
    "recomm_movies = pd.DataFrame(data=recomm_movies.values, index=recomm_movies.index,\n",
    "                            columns=['pred_score'])\n",
    "recomm_movies"
   ]
  }
 ],
 "metadata": {
  "kernelspec": {
   "display_name": "Python 3",
   "language": "python",
   "name": "python3"
  },
  "language_info": {
   "codemirror_mode": {
    "name": "ipython",
    "version": 3
   },
   "file_extension": ".py",
   "mimetype": "text/x-python",
   "name": "python",
   "nbconvert_exporter": "python",
   "pygments_lexer": "ipython3",
   "version": "3.7.6"
  }
 },
 "nbformat": 4,
 "nbformat_minor": 4
}
