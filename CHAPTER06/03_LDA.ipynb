{
 "cells": [
  {
   "cell_type": "code",
   "execution_count": 1,
   "metadata": {},
   "outputs": [
    {
     "name": "stderr",
     "output_type": "stream",
     "text": [
      "/home/arti/anaconda3/lib/python3.7/importlib/_bootstrap.py:219: RuntimeWarning: numpy.ufunc size changed, may indicate binary incompatibility. Expected 192 from C header, got 216 from PyObject\n",
      "  return f(*args, **kwds)\n"
     ]
    },
    {
     "data": {
      "text/plain": [
       "array([[-8.06179978e+00,  3.00420621e-01],\n",
       "       [-7.12868772e+00, -7.86660426e-01],\n",
       "       [-7.48982797e+00, -2.65384488e-01],\n",
       "       [-6.81320057e+00, -6.70631068e-01],\n",
       "       [-8.13230933e+00,  5.14462530e-01],\n",
       "       [-7.70194674e+00,  1.46172097e+00],\n",
       "       [-7.21261762e+00,  3.55836209e-01],\n",
       "       [-7.60529355e+00, -1.16338380e-02],\n",
       "       [-6.56055159e+00, -1.01516362e+00],\n",
       "       [-7.34305989e+00, -9.47319209e-01],\n",
       "       [-8.39738652e+00,  6.47363392e-01],\n",
       "       [-7.21929685e+00, -1.09646389e-01],\n",
       "       [-7.32679599e+00, -1.07298943e+00],\n",
       "       [-7.57247066e+00, -8.05464137e-01],\n",
       "       [-9.84984300e+00,  1.58593698e+00],\n",
       "       [-9.15823890e+00,  2.73759647e+00],\n",
       "       [-8.58243141e+00,  1.83448945e+00],\n",
       "       [-7.78075375e+00,  5.84339407e-01],\n",
       "       [-8.07835876e+00,  9.68580703e-01],\n",
       "       [-8.02097451e+00,  1.14050366e+00],\n",
       "       [-7.49680227e+00, -1.88377220e-01],\n",
       "       [-7.58648117e+00,  1.20797032e+00],\n",
       "       [-8.68104293e+00,  8.77590154e-01],\n",
       "       [-6.25140358e+00,  4.39696367e-01],\n",
       "       [-6.55893336e+00, -3.89222752e-01],\n",
       "       [-6.77138315e+00, -9.70634453e-01],\n",
       "       [-6.82308032e+00,  4.63011612e-01],\n",
       "       [-7.92461638e+00,  2.09638715e-01],\n",
       "       [-7.99129024e+00,  8.63787128e-02],\n",
       "       [-6.82946447e+00, -5.44960851e-01],\n",
       "       [-6.75895493e+00, -7.59002759e-01],\n",
       "       [-7.37495254e+00,  5.65844592e-01],\n",
       "       [-9.12634625e+00,  1.22443267e+00],\n",
       "       [-9.46768199e+00,  1.82522635e+00],\n",
       "       [-7.06201386e+00, -6.63400423e-01],\n",
       "       [-7.95876243e+00, -1.64961722e-01],\n",
       "       [-8.61367201e+00,  4.03253602e-01],\n",
       "       [-8.33041759e+00,  2.28133530e-01],\n",
       "       [-6.93412007e+00, -7.05519379e-01],\n",
       "       [-7.68823131e+00, -9.22362309e-03],\n",
       "       [-7.91793715e+00,  6.75121313e-01],\n",
       "       [-5.66188065e+00, -1.93435524e+00],\n",
       "       [-7.24101468e+00, -2.72615132e-01],\n",
       "       [-6.41443556e+00,  1.24730131e+00],\n",
       "       [-6.85944381e+00,  1.05165396e+00],\n",
       "       [-6.76470393e+00, -5.05151855e-01],\n",
       "       [-8.08189937e+00,  7.63392750e-01],\n",
       "       [-7.18676904e+00, -3.60986823e-01],\n",
       "       [-8.31444876e+00,  6.44953177e-01],\n",
       "       [-7.67196741e+00, -1.34893840e-01],\n",
       "       [ 1.45927545e+00,  2.85437643e-02],\n",
       "       [ 1.79770574e+00,  4.84385502e-01],\n",
       "       [ 2.41694888e+00, -9.27840307e-02],\n",
       "       [ 2.26247349e+00, -1.58725251e+00],\n",
       "       [ 2.54867836e+00, -4.72204898e-01],\n",
       "       [ 2.42996725e+00, -9.66132066e-01],\n",
       "       [ 2.44848456e+00,  7.95961954e-01],\n",
       "       [ 2.22666513e-01, -1.58467318e+00],\n",
       "       [ 1.75020123e+00, -8.21180130e-01],\n",
       "       [ 1.95842242e+00, -3.51563753e-01],\n",
       "       [ 1.19376031e+00, -2.63445570e+00],\n",
       "       [ 1.85892567e+00,  3.19006544e-01],\n",
       "       [ 1.15809388e+00, -2.64340991e+00],\n",
       "       [ 2.66605725e+00, -6.42504540e-01],\n",
       "       [ 3.78367218e-01,  8.66389312e-02],\n",
       "       [ 1.20117255e+00,  8.44373592e-02],\n",
       "       [ 2.76810246e+00,  3.21995363e-02],\n",
       "       [ 7.76854039e-01, -1.65916185e+00],\n",
       "       [ 3.49805433e+00, -1.68495616e+00],\n",
       "       [ 1.09042788e+00, -1.62658350e+00],\n",
       "       [ 3.71589615e+00,  1.04451442e+00],\n",
       "       [ 9.97610366e-01, -4.90530602e-01],\n",
       "       [ 3.83525931e+00, -1.40595806e+00],\n",
       "       [ 2.25741249e+00, -1.42679423e+00],\n",
       "       [ 1.25571326e+00, -5.46424197e-01],\n",
       "       [ 1.43755762e+00, -1.34424979e-01],\n",
       "       [ 2.45906137e+00, -9.35277280e-01],\n",
       "       [ 3.51848495e+00,  1.60588866e-01],\n",
       "       [ 2.58979871e+00, -1.74611728e-01],\n",
       "       [-3.07487884e-01, -1.31887146e+00],\n",
       "       [ 1.10669179e+00, -1.75225371e+00],\n",
       "       [ 6.05524589e-01, -1.94298038e+00],\n",
       "       [ 8.98703769e-01, -9.04940034e-01],\n",
       "       [ 4.49846635e+00, -8.82749915e-01],\n",
       "       [ 2.93397799e+00,  2.73791065e-02],\n",
       "       [ 2.10360821e+00,  1.19156767e+00],\n",
       "       [ 2.14258208e+00,  8.87797815e-02],\n",
       "       [ 2.47945603e+00, -1.94073927e+00],\n",
       "       [ 1.32552574e+00, -1.62869550e-01],\n",
       "       [ 1.95557887e+00, -1.15434826e+00],\n",
       "       [ 2.40157020e+00, -1.59458341e+00],\n",
       "       [ 2.29248878e+00, -3.32860296e-01],\n",
       "       [ 1.27227224e+00, -1.21458428e+00],\n",
       "       [ 2.93176055e-01, -1.79871509e+00],\n",
       "       [ 2.00598883e+00, -9.05418042e-01],\n",
       "       [ 1.18166311e+00, -5.37570242e-01],\n",
       "       [ 1.61615645e+00, -4.70103580e-01],\n",
       "       [ 1.42158879e+00, -5.51244626e-01],\n",
       "       [-4.75973788e-01, -7.99905482e-01],\n",
       "       [ 1.54948259e+00, -5.93363582e-01],\n",
       "       [ 7.83947399e+00,  2.13973345e+00],\n",
       "       [ 5.50747997e+00, -3.58139892e-02],\n",
       "       [ 6.29200850e+00,  4.67175777e-01],\n",
       "       [ 5.60545633e+00, -3.40738058e-01],\n",
       "       [ 6.85055995e+00,  8.29825394e-01],\n",
       "       [ 7.41816784e+00, -1.73117995e-01],\n",
       "       [ 4.67799541e+00, -4.99095015e-01],\n",
       "       [ 6.31692685e+00, -9.68980756e-01],\n",
       "       [ 6.32773684e+00, -1.38328993e+00],\n",
       "       [ 6.85281335e+00,  2.71758963e+00],\n",
       "       [ 4.44072512e+00,  1.34723692e+00],\n",
       "       [ 5.45009572e+00, -2.07736942e-01],\n",
       "       [ 5.66033713e+00,  8.32713617e-01],\n",
       "       [ 5.95823722e+00, -9.40175447e-02],\n",
       "       [ 6.75926282e+00,  1.60023206e+00],\n",
       "       [ 5.80704331e+00,  2.01019882e+00],\n",
       "       [ 5.06601233e+00, -2.62733839e-02],\n",
       "       [ 6.60881882e+00,  1.75163587e+00],\n",
       "       [ 9.17147486e+00, -7.48255067e-01],\n",
       "       [ 4.76453569e+00, -2.15573720e+00],\n",
       "       [ 6.27283915e+00,  1.64948141e+00],\n",
       "       [ 5.36071189e+00,  6.46120732e-01],\n",
       "       [ 7.58119982e+00, -9.80722934e-01],\n",
       "       [ 4.37150279e+00, -1.21297458e-01],\n",
       "       [ 5.72317531e+00,  1.29327553e+00],\n",
       "       [ 5.27915920e+00, -4.24582377e-02],\n",
       "       [ 4.08087208e+00,  1.85936572e-01],\n",
       "       [ 4.07703640e+00,  5.23238483e-01],\n",
       "       [ 6.51910397e+00,  2.96976389e-01],\n",
       "       [ 4.58371942e+00, -8.56815813e-01],\n",
       "       [ 6.22824009e+00, -7.12719638e-01],\n",
       "       [ 5.22048773e+00,  1.46819509e+00],\n",
       "       [ 6.80015000e+00,  5.80895175e-01],\n",
       "       [ 3.81515972e+00, -9.42985932e-01],\n",
       "       [ 5.10748966e+00, -2.13059000e+00],\n",
       "       [ 6.79671631e+00,  8.63090395e-01],\n",
       "       [ 6.52449599e+00,  2.44503527e+00],\n",
       "       [ 4.99550279e+00,  1.87768525e-01],\n",
       "       [ 3.93985300e+00,  6.14020389e-01],\n",
       "       [ 5.20383090e+00,  1.14476808e+00],\n",
       "       [ 6.65308685e+00,  1.80531976e+00],\n",
       "       [ 5.10555946e+00,  1.99218201e+00],\n",
       "       [ 5.50747997e+00, -3.58139892e-02],\n",
       "       [ 6.79601924e+00,  1.46068695e+00],\n",
       "       [ 6.84735943e+00,  2.42895067e+00],\n",
       "       [ 5.64500346e+00,  1.67771734e+00],\n",
       "       [ 5.17956460e+00, -3.63475041e-01],\n",
       "       [ 4.96774090e+00,  8.21140550e-01],\n",
       "       [ 5.88614539e+00,  2.34509051e+00],\n",
       "       [ 4.68315426e+00,  3.32033811e-01]])"
      ]
     },
     "execution_count": 1,
     "metadata": {},
     "output_type": "execute_result"
    }
   ],
   "source": [
    "from sklearn.discriminant_analysis import LinearDiscriminantAnalysis\n",
    "from sklearn.preprocessing import StandardScaler\n",
    "from sklearn.datasets import load_iris\n",
    "\n",
    "iris = load_iris()\n",
    "scaled = StandardScaler().fit_transform(iris.data)\n",
    "\n",
    "lda = LinearDiscriminantAnalysis(n_components=2)\n",
    "lda.fit(scaled, iris.target)\n",
    "iris_lda = lda.transform(scaled)\n",
    "iris_lda"
   ]
  },
  {
   "cell_type": "code",
   "execution_count": 3,
   "metadata": {},
   "outputs": [
    {
     "data": {
      "text/plain": [
       "(150, 2)"
      ]
     },
     "execution_count": 3,
     "metadata": {},
     "output_type": "execute_result"
    }
   ],
   "source": [
    "iris_lda.shape"
   ]
  },
  {
   "cell_type": "code",
   "execution_count": 4,
   "metadata": {},
   "outputs": [
    {
     "name": "stderr",
     "output_type": "stream",
     "text": [
      "/home/arti/anaconda3/lib/python3.7/importlib/_bootstrap.py:219: RuntimeWarning: numpy.ufunc size changed, may indicate binary incompatibility. Expected 192 from C header, got 216 from PyObject\n",
      "  return f(*args, **kwds)\n"
     ]
    },
    {
     "data": {
      "image/png": "[encoded data removed]",
      "text/plain": [
       "<Figure size 432x288 with 1 Axes>"
      ]
     },
     "metadata": {
      "needs_background": "light"
     },
     "output_type": "display_data"
    }
   ],
   "source": [
    "import pandas as pd\n",
    "import matplotlib.pyplot as plt\n",
    "%matplotlib inline\n",
    "\n",
    "columns = ['lda1', 'lda2']\n",
    "df = pd.DataFrame(iris_lda, columns=columns)\n",
    "df['target'] = iris.target\n",
    "\n",
    "markers = ['^', 's', 'o']\n",
    "for i, marker in enumerate(markers):\n",
    "    x = df[df['target']==i]['lda1']\n",
    "    y = df[df['target']==i]['lda2']\n",
    "    \n",
    "    plt.scatter(x, y, marker=marker, label=iris.target_names[i])\n",
    "    \n",
    "plt.legend()\n",
    "plt.xlabel('lda1')\n",
    "plt.ylabel('lda2')\n",
    "plt.show()\n"
   ]
  },
  {
   "cell_type": "code",
   "execution_count": null,
   "metadata": {},
   "outputs": [],
   "source": []
  }
 ],
 "metadata": {
  "kernelspec": {
   "display_name": "Python 3",
   "language": "python",
   "name": "python3"
  },
  "language_info": {
   "codemirror_mode": {
    "name": "ipython",
    "version": 3
   },
   "file_extension": ".py",
   "mimetype": "text/x-python",
   "name": "python",
   "nbconvert_exporter": "python",
   "pygments_lexer": "ipython3",
   "version": "3.7.6"
  }
 },
 "nbformat": 4,
 "nbformat_minor": 4
}
