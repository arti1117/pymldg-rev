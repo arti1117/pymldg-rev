{
 "cells": [
  {
   "cell_type": "code",
   "execution_count": 1,
   "metadata": {},
   "outputs": [
    {
     "data": {
      "text/plain": [
       "array([[-2.120e-01, -2.850e-01, -5.740e-01, -4.400e-01, -3.300e-01,\n",
       "         1.184e+00,  1.615e+00,  3.670e-01, -1.400e-02],\n",
       "       [ 6.300e-01,  1.710e+00, -1.327e+00,  4.020e-01, -1.910e-01,\n",
       "         1.404e+00, -1.969e+00, -7.900e-01, -7.330e-01],\n",
       "       [ 8.800e-02, -5.000e-01,  5.040e-01,  6.070e-01,  1.166e+00,\n",
       "         8.240e-01, -3.087e+00,  1.164e+00,  1.083e+00],\n",
       "       [ 4.860e-01, -1.235e+00, -1.859e+00,  4.880e-01,  3.860e-01,\n",
       "        -2.270e-01,  1.080e-01,  1.720e+00,  1.041e+00],\n",
       "       [-2.444e+00, -8.600e-02, -9.480e-01, -2.477e+00,  1.063e+00,\n",
       "         2.190e-01,  7.260e-01,  1.900e-02, -1.373e+00],\n",
       "       [ 4.970e-01,  3.130e-01,  2.860e-01, -9.360e-01, -9.030e-01,\n",
       "         8.640e-01,  9.500e-01,  7.090e-01,  6.280e-01],\n",
       "       [-2.600e-02,  1.398e+00,  6.610e-01,  1.086e+00, -3.000e-02,\n",
       "        -6.910e-01, -1.403e+00, -1.384e+00,  7.210e-01],\n",
       "       [ 7.170e-01, -6.560e-01,  8.510e-01, -8.880e-01, -1.779e+00,\n",
       "        -5.650e-01, -7.940e-01,  8.110e-01, -8.900e-01],\n",
       "       [-4.300e-02,  1.650e-01, -1.500e-02, -2.272e+00,  3.000e-03,\n",
       "        -1.430e-01,  1.766e+00, -7.710e-01,  7.900e-01]])"
      ]
     },
     "execution_count": 1,
     "metadata": {},
     "output_type": "execute_result"
    }
   ],
   "source": [
    "import numpy as np\n",
    "from numpy.linalg import svd\n",
    "\n",
    "np.random.seed(121)\n",
    "a = np.random.randn(9,9)\n",
    "np.round(a, 3)"
   ]
  },
  {
   "cell_type": "code",
   "execution_count": 2,
   "metadata": {},
   "outputs": [
    {
     "name": "stdout",
     "output_type": "stream",
     "text": [
      "(9, 9) (9,) (9, 9)\n"
     ]
    }
   ],
   "source": [
    "U, Sigma, Vt = svd(a)\n",
    "print(U.shape, Sigma.shape, Vt.shape)"
   ]
  },
  {
   "cell_type": "code",
   "execution_count": 3,
   "metadata": {},
   "outputs": [
    {
     "data": {
      "text/plain": [
       "array([[-0.27911411, -0.13469956, -0.03081833, -0.23606523,  0.3182016 ,\n",
       "        -0.04975528, -0.45241273, -0.10790079, -0.72610404],\n",
       "       [ 0.32350059,  0.4112712 , -0.30605106, -0.18339574,  0.72597117,\n",
       "         0.03039789,  0.21919833,  0.14843213,  0.02939301],\n",
       "       [ 0.49897223, -0.28721316, -0.43951651,  0.28213209, -0.11674764,\n",
       "        -0.5671894 , -0.16979709,  0.11535972, -0.13523789],\n",
       "       [ 0.0184325 , -0.6664121 , -0.22991495, -0.32684409,  0.06836794,\n",
       "         0.15381642,  0.55273542, -0.24256979, -0.05636478],\n",
       "       [-0.48219472,  0.25747044, -0.70217372,  0.29388259, -0.11233104,\n",
       "         0.06921473,  0.06685092, -0.31523327,  0.02307184],\n",
       "       [-0.17119734, -0.13492662,  0.19798462,  0.01216229,  0.39829536,\n",
       "        -0.48046258, -0.16631421, -0.52645325,  0.46780714],\n",
       "       [ 0.34588096,  0.41066473,  0.17340927, -0.13081664, -0.27754809,\n",
       "        -0.16226723,  0.25403209, -0.61050029, -0.35203774],\n",
       "       [ 0.01455139, -0.13138745,  0.28441485,  0.78326756,  0.3220183 ,\n",
       "         0.14994879,  0.2791445 , -0.07598119, -0.27973291],\n",
       "       [-0.43181475,  0.12534408,  0.12703899, -0.0841289 , -0.03772579,\n",
       "        -0.60562927,  0.48820477,  0.37305304, -0.16995822]])"
      ]
     },
     "execution_count": 3,
     "metadata": {},
     "output_type": "execute_result"
    }
   ],
   "source": [
    "U"
   ]
  },
  {
   "cell_type": "code",
   "execution_count": 5,
   "metadata": {},
   "outputs": [
    {
     "data": {
      "text/plain": [
       "array([[-2.12033165e-01, -2.84929170e-01, -5.73898209e-01,\n",
       "        -4.40310167e-01, -3.30110555e-01,  1.18369457e+00,\n",
       "         1.61537293e+00,  3.67062470e-01, -1.41193100e-02],\n",
       "       [ 6.29641797e-01,  1.70964074e+00, -1.32698736e+00,\n",
       "         4.01873123e-01, -1.91426666e-01,  1.40382596e+00,\n",
       "        -1.96876855e+00, -7.90415162e-01, -7.32721605e-01],\n",
       "       [ 8.77438211e-02, -5.00285999e-01,  5.04114441e-01,\n",
       "         6.07406100e-01,  1.16644959e+00,  8.24424421e-01,\n",
       "        -3.08672460e+00,  1.16434226e+00,  1.08265161e+00],\n",
       "       [ 4.85795994e-01, -1.23488428e+00, -1.85888172e+00,\n",
       "         4.88156281e-01,  3.85894995e-01, -2.26521488e-01,\n",
       "         1.07671161e-01,  1.71999521e+00,  1.04079381e+00],\n",
       "       [-2.44410648e+00, -8.58170660e-02, -9.48240269e-01,\n",
       "        -2.47713448e+00,  1.06287650e+00,  2.19250534e-01,\n",
       "         7.25935861e-01,  1.94107566e-02, -1.37278961e+00],\n",
       "       [ 4.96968485e-01,  3.12543021e-01,  2.86478815e-01,\n",
       "        -9.35590717e-01, -9.02731092e-01,  8.63507235e-01,\n",
       "         9.50108784e-01,  7.09047261e-01,  6.28473225e-01],\n",
       "       [-2.58758006e-02,  1.39789293e+00,  6.60855946e-01,\n",
       "         1.08614350e+00, -3.04687917e-02, -6.90968686e-01,\n",
       "        -1.40307239e+00, -1.38350220e+00,  7.20916997e-01],\n",
       "       [ 7.17304691e-01, -6.55668378e-01,  8.50597308e-01,\n",
       "        -8.88313483e-01, -1.77928048e+00, -5.65157168e-01,\n",
       "        -7.93616201e-01,  8.11429415e-01, -8.90220067e-01],\n",
       "       [-4.25199539e-02,  1.65306813e-01, -1.54128370e-02,\n",
       "        -2.27170374e+00,  2.73815573e-03, -1.42616162e-01,\n",
       "         1.76627183e+00, -7.70943328e-01,  7.90005995e-01]])"
      ]
     },
     "execution_count": 5,
     "metadata": {},
     "output_type": "execute_result"
    }
   ],
   "source": [
    "Sig = np.diag(Sigma)\n",
    "a_ = np.dot(np.dot(U, Sig), Vt)\n",
    "a_"
   ]
  },
  {
   "cell_type": "code",
   "execution_count": 6,
   "metadata": {},
   "outputs": [
    {
     "data": {
      "text/plain": [
       "array([[-0.21203317, -0.28492917, -0.57389821, -0.44031017, -0.33011056,\n",
       "         1.18369457,  1.61537293,  0.36706247, -0.01411931],\n",
       "       [ 0.6296418 ,  1.70964074, -1.32698736,  0.40187312, -0.19142667,\n",
       "         1.40382596, -1.96876855, -0.79041516, -0.73272161],\n",
       "       [ 0.41760863,  1.42471157, -1.90088557, -0.03843704, -0.52153722,\n",
       "         2.58752053, -0.35339562, -0.42335269, -0.74684092],\n",
       "       [-0.21203317, -0.28492917, -0.57389821, -0.44031017, -0.33011056,\n",
       "         1.18369457,  1.61537293,  0.36706247, -0.01411931],\n",
       "       [-2.44410648, -0.08581707, -0.94824027, -2.47713448,  1.0628765 ,\n",
       "         0.21925053,  0.72593586,  0.01941076, -1.37278961],\n",
       "       [ 0.49696848,  0.31254302,  0.28647881, -0.93559072, -0.90273109,\n",
       "         0.86350723,  0.95010878,  0.70904726,  0.62847323],\n",
       "       [-0.0258758 ,  1.39789293,  0.66085595,  1.0861435 , -0.03046879,\n",
       "        -0.69096869, -1.40307239, -1.3835022 ,  0.720917  ],\n",
       "       [ 0.71730469, -0.65566838,  0.85059731, -0.88831348, -1.77928048,\n",
       "        -0.56515717, -0.7936162 ,  0.81142942, -0.89022007],\n",
       "       [-0.04251995,  0.16530681, -0.01541284, -2.27170374,  0.00273816,\n",
       "        -0.14261616,  1.76627183, -0.77094333,  0.790006  ]])"
      ]
     },
     "execution_count": 6,
     "metadata": {},
     "output_type": "execute_result"
    }
   ],
   "source": [
    "a[2] = a[0] + a[1]\n",
    "a[3] = a[0]\n",
    "a"
   ]
  },
  {
   "cell_type": "code",
   "execution_count": 8,
   "metadata": {},
   "outputs": [
    {
     "name": "stdout",
     "output_type": "stream",
     "text": [
      "(9, 9) (9,) (9, 9)\n",
      "[5.513 4.93  3.512 2.884 2.485 0.981 0.74  0.    0.   ]\n"
     ]
    }
   ],
   "source": [
    "U, Sigma, Vt = svd(a)\n",
    "print(U.shape, Sigma.shape, Vt.shape)\n",
    "print(np.round(Sigma,3))"
   ]
  },
  {
   "cell_type": "code",
   "execution_count": 12,
   "metadata": {},
   "outputs": [
    {
     "name": "stdout",
     "output_type": "stream",
     "text": [
      "(9, 7) (7, 7) (7, 9)\n",
      "[[-0.212 -0.285 -0.574 -0.44  -0.33   1.184  1.615  0.367 -0.014]\n",
      " [ 0.63   1.71  -1.327  0.402 -0.191  1.404 -1.969 -0.79  -0.733]\n",
      " [ 0.418  1.425 -1.901 -0.038 -0.522  2.588 -0.353 -0.423 -0.747]\n",
      " [-0.212 -0.285 -0.574 -0.44  -0.33   1.184  1.615  0.367 -0.014]\n",
      " [-2.444 -0.086 -0.948 -2.477  1.063  0.219  0.726  0.019 -1.373]\n",
      " [ 0.497  0.313  0.286 -0.936 -0.903  0.864  0.95   0.709  0.628]\n",
      " [-0.026  1.398  0.661  1.086 -0.03  -0.691 -1.403 -1.384  0.721]\n",
      " [ 0.717 -0.656  0.851 -0.888 -1.779 -0.565 -0.794  0.811 -0.89 ]\n",
      " [-0.043  0.165 -0.015 -2.272  0.003 -0.143  1.766 -0.771  0.79 ]]\n"
     ]
    }
   ],
   "source": [
    "U_ = U[:, :7]\n",
    "Sig = np.diag(Sigma[:7])\n",
    "Vt_ = Vt[:7]\n",
    "print(U_.shape, Sig.shape, Vt_.shape)\n",
    "a_ = U_ @ Sig @ Vt_\n",
    "print(np.round(a_, 3))"
   ]
  },
  {
   "cell_type": "code",
   "execution_count": 13,
   "metadata": {},
   "outputs": [
    {
     "name": "stdout",
     "output_type": "stream",
     "text": [
      "[[0.11133083 0.21076757 0.23296249 0.15194456 0.83017814 0.40791941]\n",
      " [0.5557906  0.74552394 0.24849976 0.9686594  0.95268418 0.48984885]\n",
      " [0.01829731 0.85760612 0.40493829 0.62247394 0.29537149 0.92958852]\n",
      " [0.4056155  0.56730065 0.24575605 0.22573721 0.03827786 0.58098021]\n",
      " [0.82925331 0.77326256 0.94693849 0.73632338 0.67328275 0.74517176]\n",
      " [0.51161442 0.46920965 0.6439515  0.82081228 0.14548493 0.01806415]]\n",
      "(6, 6) (6,) (6, 6)\n",
      "[3.2535007  0.88116505 0.83865238 0.55463089 0.35834824 0.0349925 ]\n"
     ]
    }
   ],
   "source": [
    "from scipy.sparse.linalg import svds\n",
    "from scipy.linalg import svd as ssvd\n",
    "\n",
    "np.random.seed(121)\n",
    "matrix = np.random.random((6,6))\n",
    "print(matrix)\n",
    "U, S, VT = ssvd(matrix, full_matrices=False)\n",
    "print(U.shape, S.shape, VT.shape)\n",
    "print(S)"
   ]
  },
  {
   "cell_type": "code",
   "execution_count": 14,
   "metadata": {},
   "outputs": [
    {
     "name": "stdout",
     "output_type": "stream",
     "text": [
      "(6, 4) (4,) (4, 6)\n",
      "[0.55463089 0.83865238 0.88116505 3.2535007 ]\n"
     ]
    }
   ],
   "source": [
    "U_, S_, VT_ = svds(matrix, k=4)\n",
    "print(U_.shape, S_.shape, VT_.shape)\n",
    "print(S_)"
   ]
  },
  {
   "cell_type": "code",
   "execution_count": 15,
   "metadata": {},
   "outputs": [
    {
     "name": "stdout",
     "output_type": "stream",
     "text": [
      "[[0.19222941 0.21792946 0.15951023 0.14084013 0.81641405 0.42533093]\n",
      " [0.44874275 0.72204422 0.34594106 0.99148577 0.96866325 0.4754868 ]\n",
      " [0.12656662 0.88860729 0.30625735 0.59517439 0.28036734 0.93961948]\n",
      " [0.23989012 0.51026588 0.39697353 0.27308905 0.05971563 0.57156395]\n",
      " [0.83806144 0.78847467 0.93868685 0.72673231 0.6740867  0.73812389]\n",
      " [0.59726589 0.47953891 0.56613544 0.80746028 0.13135039 0.03479656]]\n"
     ]
    }
   ],
   "source": [
    "m_ = U_ @ np.diag(S_) @ VT_\n",
    "print(m_)"
   ]
  },
  {
   "cell_type": "code",
   "execution_count": 16,
   "metadata": {},
   "outputs": [
    {
     "data": {
      "text/plain": [
       "Text(0, 0.5, 'TruncatedSVD Component2')"
      ]
     },
     "execution_count": 16,
     "metadata": {},
     "output_type": "execute_result"
    },
    {
     "data": {
      "image/png": "[encoded data removed]",
      "text/plain": [
       "<Figure size 432x288 with 1 Axes>"
      ]
     },
     "metadata": {
      "needs_background": "light"
     },
     "output_type": "display_data"
    }
   ],
   "source": [
    "from sklearn.decomposition import TruncatedSVD, PCA\n",
    "from sklearn.datasets import load_iris\n",
    "import matplotlib.pyplot as plt\n",
    "%matplotlib inline\n",
    "\n",
    "iris = load_iris()\n",
    "data = iris.data\n",
    "tsvd = TruncatedSVD(n_components=2)\n",
    "tsvd.fit(data)\n",
    "form = tsvd.transform(data)\n",
    "\n",
    "plt.scatter(x=form[:, 0], y=form[:, 1], c=iris.target)\n",
    "plt.xlabel('TruncatedSVD Component1')\n",
    "plt.ylabel('TruncatedSVD Component2')"
   ]
  },
  {
   "cell_type": "code",
   "execution_count": 17,
   "metadata": {},
   "outputs": [
    {
     "data": {
      "text/plain": [
       "Text(0.5, 1.0, 'PCA')"
      ]
     },
     "execution_count": 17,
     "metadata": {},
     "output_type": "execute_result"
    },
    {
     "data": {
      "image/png": "[encoded data removed]",
      "text/plain": [
       "<Figure size 648x288 with 2 Axes>"
      ]
     },
     "metadata": {
      "needs_background": "light"
     },
     "output_type": "display_data"
    }
   ],
   "source": [
    "from sklearn.preprocessing import StandardScaler\n",
    "\n",
    "scaler = StandardScaler()\n",
    "scaled = scaler.fit_transform(data)\n",
    "\n",
    "tsvd = TruncatedSVD(n_components=2)\n",
    "tsvd.fit(scaled)\n",
    "form = tsvd.transform(scaled)\n",
    "\n",
    "pca = PCA(n_components=2)\n",
    "pca.fit(scaled)\n",
    "iris_pca = pca.transform(scaled)\n",
    "\n",
    "fig, (ax1, ax2) = plt.subplots(figsize=(9, 4), ncols=2)\n",
    "ax1.scatter(x=form[:, 0], y=form[:, 1], c=iris.target)\n",
    "ax2.scatter(x=iris_pca[:, 0], y=iris_pca[:, 1], c=iris.target)\n",
    "ax1.set_title('Truncated SVD')\n",
    "ax2.set_title('PCA')"
   ]
  },
  {
   "cell_type": "code",
   "execution_count": 18,
   "metadata": {},
   "outputs": [
    {
     "data": {
      "text/plain": [
       "2.3320465928714875e-15"
      ]
     },
     "execution_count": 18,
     "metadata": {},
     "output_type": "execute_result"
    }
   ],
   "source": [
    "(iris_pca - form).mean()"
   ]
  },
  {
   "cell_type": "code",
   "execution_count": null,
   "metadata": {},
   "outputs": [],
   "source": []
  }
 ],
 "metadata": {
  "kernelspec": {
   "display_name": "Python 3",
   "language": "python",
   "name": "python3"
  },
  "language_info": {
   "codemirror_mode": {
    "name": "ipython",
    "version": 3
   },
   "file_extension": ".py",
   "mimetype": "text/x-python",
   "name": "python",
   "nbconvert_exporter": "python",
   "pygments_lexer": "ipython3",
   "version": "3.7.6"
  }
 },
 "nbformat": 4,
 "nbformat_minor": 4
}
