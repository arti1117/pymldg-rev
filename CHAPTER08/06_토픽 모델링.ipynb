{
 "cells": [
  {
   "cell_type": "code",
   "execution_count": 1,
   "metadata": {},
   "outputs": [
    {
     "name": "stdout",
     "output_type": "stream",
     "text": [
      "(7862, 1000)\n"
     ]
    }
   ],
   "source": [
    "from sklearn.datasets import fetch_20newsgroups\n",
    "from sklearn.feature_extraction.text import CountVectorizer\n",
    "from sklearn.decomposition import LatentDirichletAllocation\n",
    "\n",
    "cats = ['rec.motorcycles', 'rec.sport.baseball', 'comp.graphics', 'comp.windows.x',\n",
    "       'talk.politics.mideast', 'soc.religion.christian', 'sci.electronics', 'sci.med']\n",
    "\n",
    "df = fetch_20newsgroups(subset='all', remove=('headers', 'footers', 'quotes'),\n",
    "                       categories=cats, random_state=0)\n",
    "\n",
    "cv = CountVectorizer(max_df=0.95, max_features=1000, min_df=2, stop_words='english', ngram_range=(1,2))\n",
    "feat = cv.fit_transform(df.data)\n",
    "print(feat.shape)"
   ]
  },
  {
   "cell_type": "code",
   "execution_count": 2,
   "metadata": {},
   "outputs": [
    {
     "name": "stdout",
     "output_type": "stream",
     "text": [
      "(8, 1000)\n"
     ]
    },
    {
     "data": {
      "text/plain": [
       "array([[2.46251560e+02, 1.18842248e+02, 1.51715288e+02, ...,\n",
       "        1.00147234e+02, 7.63673375e+01, 1.17028758e+02],\n",
       "       [1.25033020e-01, 1.25052288e-01, 1.25003012e-01, ...,\n",
       "        1.10644583e+02, 1.51405141e-01, 5.09788954e+01],\n",
       "       [1.25103419e-01, 1.25075224e-01, 1.25082214e-01, ...,\n",
       "        6.72008817e+01, 1.25138615e-01, 2.48516614e+00],\n",
       "       ...,\n",
       "       [1.05055615e+02, 4.94858011e-01, 2.52075927e+01, ...,\n",
       "        1.80695744e+01, 1.25115936e-01, 8.33321314e+00],\n",
       "       [1.25147502e-01, 2.27058083e+02, 5.45176328e+00, ...,\n",
       "        1.41751120e+00, 7.67217701e+01, 4.49861794e+01],\n",
       "       [1.25096012e-01, 4.05666840e+00, 1.25049904e-01, ...,\n",
       "        1.63821915e+02, 1.25049991e-01, 1.49550227e-01]])"
      ]
     },
     "execution_count": 2,
     "metadata": {},
     "output_type": "execute_result"
    }
   ],
   "source": [
    "lda = LatentDirichletAllocation(n_components=8, random_state=0)\n",
    "lda.fit(feat)\n",
    "print(lda.components_.shape)\n",
    "lda.components_"
   ]
  },
  {
   "cell_type": "code",
   "execution_count": 3,
   "metadata": {},
   "outputs": [],
   "source": [
    "def display_topics(model, names, words):\n",
    "    for index, topic in enumerate(model.components_):\n",
    "        print('Topic #', index)\n",
    "        \n",
    "        indexes = topic.argsort()[::-1]\n",
    "        top = indexes[:words]\n",
    "        \n",
    "        concat = ' '.join([names[i] for i in top])\n",
    "        print(concat)"
   ]
  },
  {
   "cell_type": "code",
   "execution_count": 4,
   "metadata": {},
   "outputs": [
    {
     "name": "stdout",
     "output_type": "stream",
     "text": [
      "Topic # 0\n",
      "year said don didn know game just time went people think did like say home\n",
      "Topic # 1\n",
      "god people jesus church think believe christ say does don christian know christians bible faith\n",
      "Topic # 2\n",
      "know does thanks like question information help time post advance book just looking group read\n",
      "Topic # 3\n",
      "edu com graphics mail ftp information available data pub list computer send software ca 3d\n",
      "Topic # 4\n",
      "israel jews jewish israeli dos dos arab turkish people war turkey dos state government greek history\n",
      "Topic # 5\n",
      "file image use program window jpeg windows display version color server files using available motif\n",
      "Topic # 6\n",
      "armenian armenians people health medical armenia disease turkish patients cancer russian 10 azerbaijan children 92\n",
      "Topic # 7\n",
      "like just don ve use good think time know way make used bike want need\n"
     ]
    }
   ],
   "source": [
    "names = cv.get_feature_names()\n",
    "display_topics(lda, names, 15)"
   ]
  },
  {
   "cell_type": "code",
   "execution_count": null,
   "metadata": {},
   "outputs": [],
   "source": []
  }
 ],
 "metadata": {
  "kernelspec": {
   "display_name": "Python 3",
   "language": "python",
   "name": "python3"
  },
  "language_info": {
   "codemirror_mode": {
    "name": "ipython",
    "version": 3
   },
   "file_extension": ".py",
   "mimetype": "text/x-python",
   "name": "python",
   "nbconvert_exporter": "python",
   "pygments_lexer": "ipython3",
   "version": "3.7.6"
  }
 },
 "nbformat": 4,
 "nbformat_minor": 4
}
