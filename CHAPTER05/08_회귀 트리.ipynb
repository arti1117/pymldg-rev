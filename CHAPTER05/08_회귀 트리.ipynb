{
 "cells": [
  {
   "cell_type": "code",
   "execution_count": 1,
   "metadata": {},
   "outputs": [
    {
     "name": "stderr",
     "output_type": "stream",
     "text": [
      "/home/arti/anaconda3/lib/python3.7/importlib/_bootstrap.py:219: RuntimeWarning: numpy.ufunc size changed, may indicate binary incompatibility. Expected 192 from C header, got 216 from PyObject\n",
      "  return f(*args, **kwds)\n"
     ]
    },
    {
     "name": "stdout",
     "output_type": "stream",
     "text": [
      "5 folds의 개별 Negative MSE:  [ -7.88 -13.14 -20.57 -46.23 -18.88]\n",
      "5 folds의 개별 RMSE:  [2.81 3.63 4.54 6.8  4.34]\n",
      "5 folds의 평균 RMSE:  4.422538982804892\n"
     ]
    }
   ],
   "source": [
    "from sklearn.datasets import load_boston\n",
    "from sklearn.model_selection import cross_val_score\n",
    "from sklearn.ensemble import RandomForestRegressor\n",
    "import pandas as pd\n",
    "import numpy as np\n",
    "\n",
    "boston = load_boston()\n",
    "df = pd.DataFrame(boston.data, columns=boston.feature_names)\n",
    "\n",
    "df['PRICE'] = boston.target\n",
    "yta = df['PRICE']\n",
    "xda = df.drop(['PRICE'], axis=1, inplace=False)\n",
    "\n",
    "rf = RandomForestRegressor(random_state=0, n_estimators=1000)\n",
    "\n",
    "neg_mse_scores = cross_val_score(rf, xda, yta, scoring='neg_mean_squared_error', cv=5)\n",
    "rmse_scores = np.sqrt(-1 * neg_mse_scores)\n",
    "avg_rmse = np.mean(rmse_scores)\n",
    "print('5 folds의 개별 Negative MSE: ', np.round(neg_mse_scores, 2))\n",
    "print('5 folds의 개별 RMSE: ', np.round(rmse_scores, 2))\n",
    "print('5 folds의 평균 RMSE: ', avg_rmse)"
   ]
  },
  {
   "cell_type": "code",
   "execution_count": 2,
   "metadata": {},
   "outputs": [],
   "source": [
    "def get_model_cv_prediction(model, xda, yta):\n",
    "    neg_mse_scores = cross_val_score(model, xda, yta, scoring='neg_mean_squared_error', cv=5)\n",
    "    rmse_scores = np.sqrt(-1 * neg_mse_scores)\n",
    "    avg_rmse = np.mean(rmse_scores)\n",
    "    print('###### ', model.__class__.__name__, ' #####')\n",
    "    print('5 folds의 개별 Negative MSE: ', np.round(neg_mse_scores, 2))\n",
    "    print('5 folds의 개별 RMSE: ', np.round(rmse_scores, 2))\n",
    "    print('5 folds의 평균 RMSE: ', avg_rmse)"
   ]
  },
  {
   "cell_type": "code",
   "execution_count": 3,
   "metadata": {},
   "outputs": [
    {
     "name": "stdout",
     "output_type": "stream",
     "text": [
      "######  DecisionTreeRegressor  #####\n",
      "5 folds의 개별 Negative MSE:  [-11.94 -36.25 -29.63 -47.23 -65.56]\n",
      "5 folds의 개별 RMSE:  [3.46 6.02 5.44 6.87 8.1 ]\n",
      "5 folds의 평균 RMSE:  5.977957424580515\n",
      "######  RandomForestRegressor  #####\n",
      "5 folds의 개별 Negative MSE:  [ -7.88 -13.14 -20.57 -46.23 -18.88]\n",
      "5 folds의 개별 RMSE:  [2.81 3.63 4.54 6.8  4.34]\n",
      "5 folds의 평균 RMSE:  4.422538982804892\n",
      "######  GradientBoostingRegressor  #####\n",
      "5 folds의 개별 Negative MSE:  [ -7.52 -14.52 -19.57 -39.45 -16.72]\n",
      "5 folds의 개별 RMSE:  [2.74 3.81 4.42 6.28 4.09]\n",
      "5 folds의 평균 RMSE:  4.26899822168126\n",
      "[17:45:29] WARNING: src/objective/regression_obj.cu:152: reg:linear is now deprecated in favor of reg:squarederror.\n",
      "[17:45:30] WARNING: src/objective/regression_obj.cu:152: reg:linear is now deprecated in favor of reg:squarederror.\n",
      "[17:45:30] WARNING: src/objective/regression_obj.cu:152: reg:linear is now deprecated in favor of reg:squarederror.\n",
      "[17:45:30] WARNING: src/objective/regression_obj.cu:152: reg:linear is now deprecated in favor of reg:squarederror.\n",
      "[17:45:31] WARNING: src/objective/regression_obj.cu:152: reg:linear is now deprecated in favor of reg:squarederror.\n",
      "######  XGBRegressor  #####\n",
      "5 folds의 개별 Negative MSE:  [ -7.58 -15.06 -14.12 -36.81 -15.9 ]\n",
      "5 folds의 개별 RMSE:  [2.75 3.88 3.76 6.07 3.99]\n",
      "5 folds의 평균 RMSE:  4.088922560380566\n",
      "######  LGBMRegressor  #####\n",
      "5 folds의 개별 Negative MSE:  [ -8.96 -18.58 -17.05 -43.71 -26.92]\n",
      "5 folds의 개별 RMSE:  [2.99 4.31 4.13 6.61 5.19]\n",
      "5 folds의 평균 RMSE:  4.646441191925675\n"
     ]
    }
   ],
   "source": [
    "from sklearn.tree import DecisionTreeRegressor\n",
    "from sklearn.ensemble import GradientBoostingRegressor\n",
    "from xgboost import XGBRegressor\n",
    "from lightgbm import LGBMRegressor\n",
    "\n",
    "dt = DecisionTreeRegressor(random_state=0, max_depth=4)\n",
    "rf = RandomForestRegressor(random_state=0, n_estimators=1000)\n",
    "gb = GradientBoostingRegressor(random_state=0, n_estimators=1000)\n",
    "xgb = XGBRegressor(n_estimators=1000)\n",
    "lgb = LGBMRegressor(n_estimators=1000)\n",
    "\n",
    "models = [dt, rf, gb, xgb, lgb]\n",
    "for model in models:\n",
    "    get_model_cv_prediction(model, xda, yta)"
   ]
  },
  {
   "cell_type": "code",
   "execution_count": 4,
   "metadata": {},
   "outputs": [
    {
     "name": "stderr",
     "output_type": "stream",
     "text": [
      "/home/arti/anaconda3/lib/python3.7/importlib/_bootstrap.py:219: RuntimeWarning: numpy.ufunc size changed, may indicate binary incompatibility. Expected 192 from C header, got 216 from PyObject\n",
      "  return f(*args, **kwds)\n"
     ]
    },
    {
     "data": {
      "text/plain": [
       "<matplotlib.axes._subplots.AxesSubplot at 0x7fe74e668510>"
      ]
     },
     "execution_count": 4,
     "metadata": {},
     "output_type": "execute_result"
    },
    {
     "data": {
      "image/png": "[encoded data removed]",
      "text/plain": [
       "<Figure size 432x288 with 1 Axes>"
      ]
     },
     "metadata": {
      "needs_background": "light"
     },
     "output_type": "display_data"
    }
   ],
   "source": [
    "import seaborn as sns\n",
    "%matplotlib inline\n",
    "\n",
    "rf.fit(xda, yta)\n",
    "\n",
    "feature = pd.Series(data=rf.feature_importances_, index=xda.columns)\n",
    "feature = feature.sort_values(ascending=False)\n",
    "sns.barplot(x=feature, y=feature.index)"
   ]
  },
  {
   "cell_type": "code",
   "execution_count": 6,
   "metadata": {},
   "outputs": [
    {
     "data": {
      "text/plain": [
       "<matplotlib.collections.PathCollection at 0x7fe74e4c0c50>"
      ]
     },
     "execution_count": 6,
     "metadata": {},
     "output_type": "execute_result"
    },
    {
     "data": {
      "image/png": "[encoded data removed]",
      "text/plain": [
       "<Figure size 432x288 with 1 Axes>"
      ]
     },
     "metadata": {
      "needs_background": "light"
     },
     "output_type": "display_data"
    }
   ],
   "source": [
    "import matplotlib.pyplot as plt\n",
    "\n",
    "plt.figure()\n",
    "plt.scatter(df[['RM', 'PRICE']]\n",
    "            .sample(n=100, random_state=0)\n",
    "            .RM,\n",
    "           df[['RM', 'PRICE']]\n",
    "            .sample(n=100, random_state=0)\n",
    "            .PRICE,\n",
    "            c='darkorange')"
   ]
  },
  {
   "cell_type": "code",
   "execution_count": 7,
   "metadata": {},
   "outputs": [],
   "source": [
    "from sklearn.linear_model import LinearRegression\n",
    "\n",
    "lr = LinearRegression()\n",
    "rf2 = DecisionTreeRegressor(max_depth=2)\n",
    "rf7 = DecisionTreeRegressor(max_depth=7)\n",
    "\n",
    "xte = np.arange(4.5, 8.0, 0.04).reshape(-1, 1)\n",
    "\n",
    "samples = df[['RM', 'PRICE']].sample(n=100, random_state=0)\n",
    "\n",
    "xfe = samples['RM'].values.reshape(-1, 1)\n",
    "yta = samples['PRICE'].values.reshape(-1, 1)\n",
    "\n",
    "lr.fit(xfe, yta)\n",
    "rf2.fit(xfe, yta)\n",
    "rf7.fit(xfe, yta)\n",
    "\n",
    "pred_lr = lr.predict(xte)\n",
    "pred_rf2 = rf2.predict(xte)\n",
    "pred_rf7 = rf7.predict(xte)"
   ]
  },
  {
   "cell_type": "code",
   "execution_count": 9,
   "metadata": {},
   "outputs": [
    {
     "data": {
      "text/plain": [
       "[<matplotlib.lines.Line2D at 0x7fe74e0c6f10>]"
      ]
     },
     "execution_count": 9,
     "metadata": {},
     "output_type": "execute_result"
    },
    {
     "data": {
      "image/png": "[encoded data removed]",
      "text/plain": [
       "<Figure size 1008x288 with 3 Axes>"
      ]
     },
     "metadata": {
      "needs_background": "light"
     },
     "output_type": "display_data"
    }
   ],
   "source": [
    "fig, (ax1, ax2, ax3) = plt.subplots(figsize=(14, 4), ncols=3)\n",
    "\n",
    "ax1.set_title('Linear Regression')\n",
    "ax1.scatter(samples.RM, samples.PRICE, c='darkorange')\n",
    "ax1.plot(xte, pred_lr, label='linear', linewidth=2)\n",
    "\n",
    "ax2.set_title('Decision Tree Regression: \\n max_depth=2')\n",
    "ax2.scatter(samples.RM, samples.PRICE, c='darkorange')\n",
    "ax2.plot(xte, pred_rf2, label='max_depth:2', linewidth=2)\n",
    "\n",
    "ax3.set_title('Decision Tree Regression: \\n max_depth=7')\n",
    "ax3.scatter(samples.RM, samples.PRICE, c='darkorange')\n",
    "ax3.plot(xte, pred_rf7, label='max_depth:7', linewidth=2)"
   ]
  },
  {
   "cell_type": "code",
   "execution_count": null,
   "metadata": {},
   "outputs": [],
   "source": []
  }
 ],
 "metadata": {
  "kernelspec": {
   "display_name": "Python 3",
   "language": "python",
   "name": "python3"
  },
  "language_info": {
   "codemirror_mode": {
    "name": "ipython",
    "version": 3
   },
   "file_extension": ".py",
   "mimetype": "text/x-python",
   "name": "python",
   "nbconvert_exporter": "python",
   "pygments_lexer": "ipython3",
   "version": "3.7.6"
  }
 },
 "nbformat": 4,
 "nbformat_minor": 4
}
